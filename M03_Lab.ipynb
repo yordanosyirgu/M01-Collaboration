{
 "cells": [
  {
   "cell_type": "code",
   "execution_count": 2,
   "id": "a866cee4",
   "metadata": {},
   "outputs": [
    {
     "name": "stdout",
     "output_type": "stream",
     "text": [
      "Enter the year: 2024\n",
      "Enter the make: General Motor\n",
      "Enter the model: chevy\n",
      "Enter the number of doors (2 or 4): 4\n",
      "Enter the type of roof (solid or sun roof): sun roof\n",
      "\n",
      "Car Information:\n",
      "Vehicle type: car\n",
      "Year: 2024\n",
      "Make: General Motor\n",
      "Model: chevy\n",
      "Number of doors: 4\n",
      "Type of roof: sun roof\n"
     ]
    }
   ],
   "source": [
    "# Yordanos Yirgu\n",
    "# Nov, 2023\n",
    "# Tadelo Jember\n",
    "# November,2023\n",
    "# Define the Vehicle class\n",
    "class Vehicle:\n",
    "    def __init__(self, vehicle_type):\n",
    "        self.vehicle_type = vehicle_type\n",
    "\n",
    "# Define the Automobile class which inherits from Vehicle\n",
    "class Automobile(Vehicle):\n",
    "    def __init__(self, vehicle_type, year, make, model, doors, roof):\n",
    "        super().__init__(vehicle_type)\n",
    "        self.year = year\n",
    "        self.make = make\n",
    "        self.model = model\n",
    "        self.doors = doors\n",
    "        self.roof = roof\n",
    "\n",
    "# Function to get user input for a car\n",
    "def get_car_input():\n",
    "    vehicle_type = \"car\"\n",
    "    year = input(\"Enter the year: \")\n",
    "    make = input(\"Enter the make: \")\n",
    "    model = input(\"Enter the model: \")\n",
    "    doors = input(\"Enter the number of doors (2 or 4): \")\n",
    "    roof = input(\"Enter the type of roof (solid or sun roof): \")\n",
    "    \n",
    "    # Create an Automobile object with user input\n",
    "    car = Automobile(vehicle_type, year, make, model, doors, roof)\n",
    "    return car\n",
    "\n",
    "# Function to display car information\n",
    "def display_car_info(car):\n",
    "    print(\"Vehicle type:\", car.vehicle_type)\n",
    "    print(\"Year:\", car.year)\n",
    "    print(\"Make:\", car.make)\n",
    "    print(\"Model:\", car.model)\n",
    "    print(\"Number of doors:\", car.doors)\n",
    "    print(\"Type of roof:\", car.roof)\n",
    "\n",
    "if __name__ == \"__main__\":\n",
    "    # Get user input for a car\n",
    "    car = get_car_input()\n",
    "\n",
    "    # Display the car information\n",
    "    print(\"\\nCar Information:\")\n",
    "    display_car_info(car)\n"
   ]
  },
  {
   "cell_type": "code",
   "execution_count": null,
   "id": "e44b6d12",
   "metadata": {},
   "outputs": [],
   "source": []
  }
 ],
 "metadata": {
  "kernelspec": {
   "display_name": "Python 3 (ipykernel)",
   "language": "python",
   "name": "python3"
  },
  "language_info": {
   "codemirror_mode": {
    "name": "ipython",
    "version": 3
   },
   "file_extension": ".py",
   "mimetype": "text/x-python",
   "name": "python",
   "nbconvert_exporter": "python",
   "pygments_lexer": "ipython3",
   "version": "3.11.5"
  }
 },
 "nbformat": 4,
 "nbformat_minor": 5
}
