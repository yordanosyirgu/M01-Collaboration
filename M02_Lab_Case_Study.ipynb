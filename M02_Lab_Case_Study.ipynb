{
 "cells": [
  {
   "cell_type": "code",
   "execution_count": 2,
   "id": "49dd3878",
   "metadata": {
    "scrolled": true
   },
   "outputs": [
    {
     "name": "stdout",
     "output_type": "stream",
     "text": [
      "Enter the student's last name (or 'ZZZ' to quit): Stephen\n",
      "Enter the student's first name: Bilgate\n",
      "Enter the student's GPA: 3.91\n",
      "Enter the student's last name (or 'ZZZ' to quit): Temnt\n",
      "Enter the student's first name: Adriana\n",
      "Enter the student's GPA: 3.26\n",
      "Enter the student's last name (or 'ZZZ' to quit): Elias\n",
      "Enter the student's first name: Piter\n",
      "Enter the student's GPA: 3.76\n",
      "Enter the student's last name (or 'ZZZ' to quit): Pawlos\n",
      "Enter the student's first name: George\n",
      "Enter the student's GPA: 3.2\n",
      "Enter the student's last name (or 'ZZZ' to quit): Jordan\n",
      "Enter the student's first name: Rooney\n",
      "Enter the student's GPA: 3.1\n",
      "Enter the student's last name (or 'ZZZ' to quit): ZZZ\n",
      "\n",
      "Qualifications:\n",
      "Stephen Bilgate - GPA: 3.91 - Dean's List\n",
      "Temnt Adriana - GPA: 3.26 - Honor Roll\n",
      "Elias Piter - GPA: 3.76 - Dean's List\n",
      "Pawlos George - GPA: 3.2 - Not qualified\n",
      "Jordan Rooney - GPA: 3.1 - Not qualified\n"
     ]
    }
   ],
   "source": [
    "# Author: Yordanos Yirgu\n",
    "# File Name: M02_Lab_Case_Study\n",
    "# Description: This app accepts student names and GPAs and determines if they qualify for the Dean's List or the Honor Roll.\n",
    "# Initialize an empty list to store student records\n",
    "student_records = []\n",
    "\n",
    "# Function to check if a student qualifies for the Dean's List or the Honor Roll\n",
    "def check_qualification(gpa):\n",
    "    if gpa >= 3.5:\n",
    "        return \"Dean's List\"\n",
    "    elif gpa >= 3.25:\n",
    "        return \"Honor Roll\"\n",
    "    else:\n",
    "        return \"Not qualified\"\n",
    "\n",
    "# Main loop to input and process student records\n",
    "while True:\n",
    "    last_name = input(\"Enter the student's last name (or 'ZZZ' to quit): \")\n",
    "    if last_name == 'ZZZ':\n",
    "        break\n",
    "\n",
    "    first_name = input(\"Enter the student's first name: \")\n",
    "    gpa = float(input(\"Enter the student's GPA: \"))\n",
    "\n",
    "    qualification = check_qualification(gpa)\n",
    "    student_records.append((first_name, last_name, gpa, qualification))\n",
    "\n",
    "# Display the qualifications for each student\n",
    "print(\"\\nQualifications:\")\n",
    "for student in student_records:\n",
    "    first_name, last_name, gpa, qualification = student\n",
    "    print(f\"{last_name} {first_name} - GPA: {gpa} - {qualification}\")"
   ]
  },
  {
   "cell_type": "code",
   "execution_count": null,
   "id": "81487974",
   "metadata": {},
   "outputs": [],
   "source": []
  }
 ],
 "metadata": {
  "kernelspec": {
   "display_name": "Python 3 (ipykernel)",
   "language": "python",
   "name": "python3"
  },
  "language_info": {
   "codemirror_mode": {
    "name": "ipython",
    "version": 3
   },
   "file_extension": ".py",
   "mimetype": "text/x-python",
   "name": "python",
   "nbconvert_exporter": "python",
   "pygments_lexer": "ipython3",
   "version": "3.11.5"
  }
 },
 "nbformat": 4,
 "nbformat_minor": 5
}
