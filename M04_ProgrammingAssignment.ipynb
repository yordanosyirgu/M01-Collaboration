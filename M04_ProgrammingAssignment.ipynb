{
 "cells": [
  {
   "cell_type": "code",
   "execution_count": 2,
   "id": "d710fa3e",
   "metadata": {},
   "outputs": [
    {
     "name": "stdout",
     "output_type": "stream",
     "text": [
      "Open 9-5 daily\n",
      "Open 9-5 daily\n"
     ]
    }
   ],
   "source": [
    "# Yordanos Yirgu\n",
    "# Exercie 11.1\n",
    "# zoo.py\n",
    "def hours():\n",
    "    print('Open 9-5 daily')\n",
    "# In Jupyter Notebook\n",
    "import zoo\n",
    "zoo.hours()\n",
    "\n",
    "# Exercie 11.1\n",
    "# In Jupyter Notebook\n",
    "import zoo as menagerie\n",
    "menagerie.hours()\n"
   ]
  },
  {
   "cell_type": "code",
   "execution_count": 3,
   "id": "e31cf83b",
   "metadata": {},
   "outputs": [
    {
     "name": "stdout",
     "output_type": "stream",
     "text": [
      "Titles in alphabetical order using sqlalchemy:\n"
     ]
    }
   ],
   "source": [
    "# Yordanos Yirgu \n",
    "# Exercise 16.4\n",
    "import sqlite3\n",
    "# Creating SQLite database and table using sqlite3\n",
    "conn = sqlite3.connect('books.db')\n",
    "cursor = conn.cursor()\n",
    "\n",
    "# Drop the existing table\n",
    "cursor.execute(\"DROP TABLE IF EXISTS books\")\n",
    "# Creating the 'books' table with specified fields\n",
    "cursor.execute('''CREATE TABLE IF NOT EXISTS books (\n",
    "                    id INTEGER PRIMARY KEY,\n",
    "                    title TEXT,\n",
    "                    author TEXT,\n",
    "                    year INTEGER\n",
    "                )''')\n",
    "conn.commit()\n",
    "conn.close()\n",
    "\n",
    "# 16.8\n",
    "from sqlalchemy import create_engine, MetaData, Table, select\n",
    "\n",
    "# Using sqlalchemy to connect to the sqlite3 database and select the title column in alphabetical order\n",
    "engine = create_engine('sqlite:///books.db')\n",
    "metadata = MetaData()\n",
    "books_table = Table('books', metadata, autoload=True, autoload_with=engine)\n",
    "\n",
    "with engine.connect() as conn:\n",
    "    stmt = select([books_table.columns.title]).order_by(books_table.columns.title)\n",
    "    result = conn.execute(stmt).fetchall()\n",
    "\n",
    "print(\"Titles in alphabetical order using sqlalchemy:\")\n",
    "for title in result:\n",
    "    print(title[0])"
   ]
  },
  {
   "cell_type": "code",
   "execution_count": null,
   "id": "02872aef",
   "metadata": {},
   "outputs": [],
   "source": []
  }
 ],
 "metadata": {
  "kernelspec": {
   "display_name": "Python 3 (ipykernel)",
   "language": "python",
   "name": "python3"
  },
  "language_info": {
   "codemirror_mode": {
    "name": "ipython",
    "version": 3
   },
   "file_extension": ".py",
   "mimetype": "text/x-python",
   "name": "python",
   "nbconvert_exporter": "python",
   "pygments_lexer": "ipython3",
   "version": "3.11.5"
  }
 },
 "nbformat": 4,
 "nbformat_minor": 5
}
